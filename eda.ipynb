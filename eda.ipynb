{
 "cells": [
  {
   "cell_type": "markdown",
   "metadata": {},
   "source": [
    "# ```USA Accident EDA```"
   ]
  },
  {
   "cell_type": "markdown",
   "metadata": {},
   "source": []
  },
  {
   "cell_type": "code",
   "execution_count": 1,
   "metadata": {},
   "outputs": [],
   "source": [
    "import pandas as pd\n",
    "import matplotlib.pyplot as plt\n",
    "import matplotlib as mpl\n",
    "import numpy as np\n",
    "# matplotlib uses numpy f(x) for numerical  data and mulit-d arrays.\n",
    "# so numpy is a reuired dependency for mpl\n",
    "# import numpy"
   ]
  },
  {
   "cell_type": "code",
   "execution_count": 2,
   "metadata": {},
   "outputs": [
    {
     "name": "stdout",
     "output_type": "stream",
     "text": [
      "                  time                                     place     status  \\\n",
      "0         631153353990         12 km NNW of Meadow Lakes, Alaska   reviewed   \n",
      "1         631153491210                14 km S of Volcano, Hawaii   reviewed   \n",
      "2         631154083450                7 km W of Cobb, California   reviewed   \n",
      "3         631155512130      11 km E of Mammoth Lakes, California   reviewed   \n",
      "4         631155824490                    16km N of Fillmore, CA   reviewed   \n",
      "...                ...                                       ...        ...   \n",
      "3445746  1690626851941                5 km NW of Chikusei, Japan   reviewed   \n",
      "3445747  1690626975715              Kodiak Island region, Alaska  automatic   \n",
      "3445748  1690627215940  12 km W of Alberto Oviedo Mota, B.C., MX  automatic   \n",
      "3445749  1690628146040                        7 km W of Cobb, CA  automatic   \n",
      "3445750  1690628937884                 35 km W of Karluk, Alaska  automatic   \n",
      "\n",
      "         tsunami  significance   data_type  magnitudo        state  \\\n",
      "0              0            96  earthquake       2.50       Alaska   \n",
      "1              0            31  earthquake       1.41       Hawaii   \n",
      "2              0            19  earthquake       1.11   California   \n",
      "3              0            15  earthquake       0.98   California   \n",
      "4              0           134  earthquake       2.95   California   \n",
      "...          ...           ...         ...        ...          ...   \n",
      "3445746        0           326  earthquake       4.60        Japan   \n",
      "3445747        0            44  earthquake       1.70       Alaska   \n",
      "3445748        0            90  earthquake       2.42         B.C.   \n",
      "3445749        0            16  earthquake       1.03   California   \n",
      "3445750        0            12  earthquake       0.90       Alaska   \n",
      "\n",
      "          longitude   latitude    depth                              date  \n",
      "0       -149.669200  61.730200   30.100  1990-01-01 00:22:33.990000+00:00  \n",
      "1       -155.212333  19.317667    6.585  1990-01-01 00:24:51.210000+00:00  \n",
      "2       -122.806167  38.821000    3.220  1990-01-01 00:34:43.450000+00:00  \n",
      "3       -118.846333  37.664333   -0.584  1990-01-01 00:58:32.130000+00:00  \n",
      "4       -118.934000  34.546000   16.122  1990-01-01 01:03:44.490000+00:00  \n",
      "...             ...        ...      ...                               ...  \n",
      "3445746  139.940200  36.350700   83.039  2023-07-29 10:34:11.941000+00:00  \n",
      "3445747 -153.729900  57.790100   24.400  2023-07-29 10:36:15.715000+00:00  \n",
      "3445748 -115.296833  32.233167    1.770  2023-07-29 10:40:15.940000+00:00  \n",
      "3445749 -122.800499  38.827499    1.720  2023-07-29 10:55:46.040000+00:00  \n",
      "3445750 -155.051000  57.564800  250.000  2023-07-29 11:08:57.884000+00:00  \n",
      "\n",
      "[3445751 rows x 12 columns]\n"
     ]
    }
   ],
   "source": [
    "## load the data\n",
    "data = pd.read_csv(\"Eartquakes-1990-2023.csv\")\n",
    "print(data)"
   ]
  },
  {
   "cell_type": "markdown",
   "metadata": {},
   "source": [
    "## `Dataset specifications`"
   ]
  },
  {
   "cell_type": "code",
   "execution_count": 3,
   "metadata": {},
   "outputs": [
    {
     "data": {
      "text/plain": [
       "Index(['time', 'place', 'status', 'tsunami', 'significance', 'data_type',\n",
       "       'magnitudo', 'state', 'longitude', 'latitude', 'depth', 'date'],\n",
       "      dtype='object')"
      ]
     },
     "execution_count": 3,
     "metadata": {},
     "output_type": "execute_result"
    }
   ],
   "source": [
    "data.columns\n",
    "## headings of columns"
   ]
  },
  {
   "cell_type": "code",
   "execution_count": 4,
   "metadata": {},
   "outputs": [
    {
     "name": "stdout",
     "output_type": "stream",
     "text": [
      "No. of rows : statistical info about the dataset: \n",
      "<class 'pandas.core.frame.DataFrame'>\n",
      "RangeIndex: 3445751 entries, 0 to 3445750\n",
      "Data columns (total 12 columns):\n",
      " #   Column        Dtype  \n",
      "---  ------        -----  \n",
      " 0   time          int64  \n",
      " 1   place         object \n",
      " 2   status        object \n",
      " 3   tsunami       int64  \n",
      " 4   significance  int64  \n",
      " 5   data_type     object \n",
      " 6   magnitudo     float64\n",
      " 7   state         object \n",
      " 8   longitude     float64\n",
      " 9   latitude      float64\n",
      " 10  depth         float64\n",
      " 11  date          object \n",
      "dtypes: float64(4), int64(3), object(5)\n",
      "memory usage: 315.5+ MB\n"
     ]
    }
   ],
   "source": [
    "print(\"No. of rows : \" , end=\"\")\n",
    "len(data)\n",
    "print(\"statistical info about the dataset: \" )\n",
    "data.info()\n"
   ]
  },
  {
   "cell_type": "code",
   "execution_count": 15,
   "metadata": {},
   "outputs": [
    {
     "data": {
      "text/plain": [
       "0          1990-01-01 00:22:33.990000+00:00\n",
       "1          1990-01-01 00:24:51.210000+00:00\n",
       "2          1990-01-01 00:34:43.450000+00:00\n",
       "3          1990-01-01 00:58:32.130000+00:00\n",
       "4          1990-01-01 01:03:44.490000+00:00\n",
       "                         ...               \n",
       "3445746    2023-07-29 10:34:11.941000+00:00\n",
       "3445747    2023-07-29 10:36:15.715000+00:00\n",
       "3445748    2023-07-29 10:40:15.940000+00:00\n",
       "3445749    2023-07-29 10:55:46.040000+00:00\n",
       "3445750    2023-07-29 11:08:57.884000+00:00\n",
       "Name: date, Length: 3445751, dtype: object"
      ]
     },
     "execution_count": 15,
     "metadata": {},
     "output_type": "execute_result"
    }
   ],
   "source": [
    "data.date"
   ]
  },
  {
   "cell_type": "markdown",
   "metadata": {},
   "source": [
    "### `some statistical insights`"
   ]
  },
  {
   "cell_type": "markdown",
   "metadata": {},
   "source": [
    "``` \n",
    "most tsunami prone regions: by countning the occurrences\n",
    "avg time of earthquake : using mean method\n",
    "most severe earthquake:  using max() on magnitudo etc."
   ]
  },
  {
   "cell_type": "markdown",
   "metadata": {},
   "source": [
    "``` another possible insight that can be drawn but idk how to do it is : the regions where earthquakes took place back to back or with a short period of break, info about that region can be retreived and check for works, construction, quarrying, minig or any such reasons that would have led to a minor cause of earthquake. Also it would help with post disaster management.```"
   ]
  },
  {
   "cell_type": "markdown",
   "metadata": {},
   "source": [
    "``one more thing is , as we've data of latitude and longitude, we can use this geospatial data to visualise such as contour plots or heat maps``"
   ]
  },
  {
   "cell_type": "markdown",
   "metadata": {},
   "source": []
  },
  {
   "cell_type": "code",
   "execution_count": 16,
   "metadata": {},
   "outputs": [
    {
     "data": {
      "text/html": [
       "<div>\n",
       "<style scoped>\n",
       "    .dataframe tbody tr th:only-of-type {\n",
       "        vertical-align: middle;\n",
       "    }\n",
       "\n",
       "    .dataframe tbody tr th {\n",
       "        vertical-align: top;\n",
       "    }\n",
       "\n",
       "    .dataframe thead th {\n",
       "        text-align: right;\n",
       "    }\n",
       "</style>\n",
       "<table border=\"1\" class=\"dataframe\">\n",
       "  <thead>\n",
       "    <tr style=\"text-align: right;\">\n",
       "      <th></th>\n",
       "      <th>time</th>\n",
       "      <th>tsunami</th>\n",
       "      <th>significance</th>\n",
       "      <th>magnitudo</th>\n",
       "      <th>longitude</th>\n",
       "      <th>latitude</th>\n",
       "      <th>depth</th>\n",
       "    </tr>\n",
       "  </thead>\n",
       "  <tbody>\n",
       "    <tr>\n",
       "      <th>count</th>\n",
       "      <td>3.445751e+06</td>\n",
       "      <td>3.445751e+06</td>\n",
       "      <td>3.445751e+06</td>\n",
       "      <td>3.445751e+06</td>\n",
       "      <td>3.445751e+06</td>\n",
       "      <td>3.445751e+06</td>\n",
       "      <td>3.445751e+06</td>\n",
       "    </tr>\n",
       "    <tr>\n",
       "      <th>mean</th>\n",
       "      <td>1.247124e+12</td>\n",
       "      <td>4.434447e-04</td>\n",
       "      <td>7.400973e+01</td>\n",
       "      <td>1.774076e+00</td>\n",
       "      <td>-1.012876e+02</td>\n",
       "      <td>3.746483e+01</td>\n",
       "      <td>2.285387e+01</td>\n",
       "    </tr>\n",
       "    <tr>\n",
       "      <th>std</th>\n",
       "      <td>2.976292e+11</td>\n",
       "      <td>2.105346e-02</td>\n",
       "      <td>1.016364e+02</td>\n",
       "      <td>1.291055e+00</td>\n",
       "      <td>7.697416e+01</td>\n",
       "      <td>2.041577e+01</td>\n",
       "      <td>5.484938e+01</td>\n",
       "    </tr>\n",
       "    <tr>\n",
       "      <th>min</th>\n",
       "      <td>6.311534e+11</td>\n",
       "      <td>0.000000e+00</td>\n",
       "      <td>0.000000e+00</td>\n",
       "      <td>-9.990000e+00</td>\n",
       "      <td>-1.799997e+02</td>\n",
       "      <td>-8.442200e+01</td>\n",
       "      <td>-1.000000e+01</td>\n",
       "    </tr>\n",
       "    <tr>\n",
       "      <th>25%</th>\n",
       "      <td>1.024401e+12</td>\n",
       "      <td>0.000000e+00</td>\n",
       "      <td>1.300000e+01</td>\n",
       "      <td>9.100000e-01</td>\n",
       "      <td>-1.464274e+02</td>\n",
       "      <td>3.406400e+01</td>\n",
       "      <td>3.120000e+00</td>\n",
       "    </tr>\n",
       "    <tr>\n",
       "      <th>50%</th>\n",
       "      <td>1.282338e+12</td>\n",
       "      <td>0.000000e+00</td>\n",
       "      <td>3.300000e+01</td>\n",
       "      <td>1.460000e+00</td>\n",
       "      <td>-1.189538e+02</td>\n",
       "      <td>3.793567e+01</td>\n",
       "      <td>7.700000e+00</td>\n",
       "    </tr>\n",
       "    <tr>\n",
       "      <th>75%</th>\n",
       "      <td>1.508701e+12</td>\n",
       "      <td>0.000000e+00</td>\n",
       "      <td>8.100000e+01</td>\n",
       "      <td>2.300000e+00</td>\n",
       "      <td>-1.159277e+02</td>\n",
       "      <td>4.784800e+01</td>\n",
       "      <td>1.612000e+01</td>\n",
       "    </tr>\n",
       "    <tr>\n",
       "      <th>max</th>\n",
       "      <td>1.690629e+12</td>\n",
       "      <td>1.000000e+00</td>\n",
       "      <td>2.910000e+03</td>\n",
       "      <td>9.100000e+00</td>\n",
       "      <td>1.800000e+02</td>\n",
       "      <td>8.738600e+01</td>\n",
       "      <td>7.358000e+02</td>\n",
       "    </tr>\n",
       "  </tbody>\n",
       "</table>\n",
       "</div>"
      ],
      "text/plain": [
       "               time       tsunami  significance     magnitudo     longitude  \\\n",
       "count  3.445751e+06  3.445751e+06  3.445751e+06  3.445751e+06  3.445751e+06   \n",
       "mean   1.247124e+12  4.434447e-04  7.400973e+01  1.774076e+00 -1.012876e+02   \n",
       "std    2.976292e+11  2.105346e-02  1.016364e+02  1.291055e+00  7.697416e+01   \n",
       "min    6.311534e+11  0.000000e+00  0.000000e+00 -9.990000e+00 -1.799997e+02   \n",
       "25%    1.024401e+12  0.000000e+00  1.300000e+01  9.100000e-01 -1.464274e+02   \n",
       "50%    1.282338e+12  0.000000e+00  3.300000e+01  1.460000e+00 -1.189538e+02   \n",
       "75%    1.508701e+12  0.000000e+00  8.100000e+01  2.300000e+00 -1.159277e+02   \n",
       "max    1.690629e+12  1.000000e+00  2.910000e+03  9.100000e+00  1.800000e+02   \n",
       "\n",
       "           latitude         depth  \n",
       "count  3.445751e+06  3.445751e+06  \n",
       "mean   3.746483e+01  2.285387e+01  \n",
       "std    2.041577e+01  5.484938e+01  \n",
       "min   -8.442200e+01 -1.000000e+01  \n",
       "25%    3.406400e+01  3.120000e+00  \n",
       "50%    3.793567e+01  7.700000e+00  \n",
       "75%    4.784800e+01  1.612000e+01  \n",
       "max    8.738600e+01  7.358000e+02  "
      ]
     },
     "execution_count": 16,
     "metadata": {},
     "output_type": "execute_result"
    }
   ],
   "source": [
    "data.describe()"
   ]
  },
  {
   "cell_type": "code",
   "execution_count": 18,
   "metadata": {},
   "outputs": [
    {
     "data": {
      "text/html": [
       "<div>\n",
       "<style scoped>\n",
       "    .dataframe tbody tr th:only-of-type {\n",
       "        vertical-align: middle;\n",
       "    }\n",
       "\n",
       "    .dataframe tbody tr th {\n",
       "        vertical-align: top;\n",
       "    }\n",
       "\n",
       "    .dataframe thead th {\n",
       "        text-align: right;\n",
       "    }\n",
       "</style>\n",
       "<table border=\"1\" class=\"dataframe\">\n",
       "  <thead>\n",
       "    <tr style=\"text-align: right;\">\n",
       "      <th></th>\n",
       "      <th>time</th>\n",
       "      <th>tsunami</th>\n",
       "      <th>significance</th>\n",
       "      <th>magnitudo</th>\n",
       "      <th>longitude</th>\n",
       "      <th>latitude</th>\n",
       "      <th>depth</th>\n",
       "    </tr>\n",
       "  </thead>\n",
       "  <tbody>\n",
       "    <tr>\n",
       "      <th>0</th>\n",
       "      <td>631153353990</td>\n",
       "      <td>0</td>\n",
       "      <td>96</td>\n",
       "      <td>2.50</td>\n",
       "      <td>-149.669200</td>\n",
       "      <td>61.730200</td>\n",
       "      <td>30.100</td>\n",
       "    </tr>\n",
       "    <tr>\n",
       "      <th>1</th>\n",
       "      <td>631153491210</td>\n",
       "      <td>0</td>\n",
       "      <td>31</td>\n",
       "      <td>1.41</td>\n",
       "      <td>-155.212333</td>\n",
       "      <td>19.317667</td>\n",
       "      <td>6.585</td>\n",
       "    </tr>\n",
       "    <tr>\n",
       "      <th>2</th>\n",
       "      <td>631154083450</td>\n",
       "      <td>0</td>\n",
       "      <td>19</td>\n",
       "      <td>1.11</td>\n",
       "      <td>-122.806167</td>\n",
       "      <td>38.821000</td>\n",
       "      <td>3.220</td>\n",
       "    </tr>\n",
       "    <tr>\n",
       "      <th>3</th>\n",
       "      <td>631155512130</td>\n",
       "      <td>0</td>\n",
       "      <td>15</td>\n",
       "      <td>0.98</td>\n",
       "      <td>-118.846333</td>\n",
       "      <td>37.664333</td>\n",
       "      <td>-0.584</td>\n",
       "    </tr>\n",
       "    <tr>\n",
       "      <th>4</th>\n",
       "      <td>631155824490</td>\n",
       "      <td>0</td>\n",
       "      <td>134</td>\n",
       "      <td>2.95</td>\n",
       "      <td>-118.934000</td>\n",
       "      <td>34.546000</td>\n",
       "      <td>16.122</td>\n",
       "    </tr>\n",
       "    <tr>\n",
       "      <th>...</th>\n",
       "      <td>...</td>\n",
       "      <td>...</td>\n",
       "      <td>...</td>\n",
       "      <td>...</td>\n",
       "      <td>...</td>\n",
       "      <td>...</td>\n",
       "      <td>...</td>\n",
       "    </tr>\n",
       "    <tr>\n",
       "      <th>3445746</th>\n",
       "      <td>1690626851941</td>\n",
       "      <td>0</td>\n",
       "      <td>326</td>\n",
       "      <td>4.60</td>\n",
       "      <td>139.940200</td>\n",
       "      <td>36.350700</td>\n",
       "      <td>83.039</td>\n",
       "    </tr>\n",
       "    <tr>\n",
       "      <th>3445747</th>\n",
       "      <td>1690626975715</td>\n",
       "      <td>0</td>\n",
       "      <td>44</td>\n",
       "      <td>1.70</td>\n",
       "      <td>-153.729900</td>\n",
       "      <td>57.790100</td>\n",
       "      <td>24.400</td>\n",
       "    </tr>\n",
       "    <tr>\n",
       "      <th>3445748</th>\n",
       "      <td>1690627215940</td>\n",
       "      <td>0</td>\n",
       "      <td>90</td>\n",
       "      <td>2.42</td>\n",
       "      <td>-115.296833</td>\n",
       "      <td>32.233167</td>\n",
       "      <td>1.770</td>\n",
       "    </tr>\n",
       "    <tr>\n",
       "      <th>3445749</th>\n",
       "      <td>1690628146040</td>\n",
       "      <td>0</td>\n",
       "      <td>16</td>\n",
       "      <td>1.03</td>\n",
       "      <td>-122.800499</td>\n",
       "      <td>38.827499</td>\n",
       "      <td>1.720</td>\n",
       "    </tr>\n",
       "    <tr>\n",
       "      <th>3445750</th>\n",
       "      <td>1690628937884</td>\n",
       "      <td>0</td>\n",
       "      <td>12</td>\n",
       "      <td>0.90</td>\n",
       "      <td>-155.051000</td>\n",
       "      <td>57.564800</td>\n",
       "      <td>250.000</td>\n",
       "    </tr>\n",
       "  </tbody>\n",
       "</table>\n",
       "<p>3445751 rows × 7 columns</p>\n",
       "</div>"
      ],
      "text/plain": [
       "                  time  tsunami  significance  magnitudo   longitude  \\\n",
       "0         631153353990        0            96       2.50 -149.669200   \n",
       "1         631153491210        0            31       1.41 -155.212333   \n",
       "2         631154083450        0            19       1.11 -122.806167   \n",
       "3         631155512130        0            15       0.98 -118.846333   \n",
       "4         631155824490        0           134       2.95 -118.934000   \n",
       "...                ...      ...           ...        ...         ...   \n",
       "3445746  1690626851941        0           326       4.60  139.940200   \n",
       "3445747  1690626975715        0            44       1.70 -153.729900   \n",
       "3445748  1690627215940        0            90       2.42 -115.296833   \n",
       "3445749  1690628146040        0            16       1.03 -122.800499   \n",
       "3445750  1690628937884        0            12       0.90 -155.051000   \n",
       "\n",
       "          latitude    depth  \n",
       "0        61.730200   30.100  \n",
       "1        19.317667    6.585  \n",
       "2        38.821000    3.220  \n",
       "3        37.664333   -0.584  \n",
       "4        34.546000   16.122  \n",
       "...            ...      ...  \n",
       "3445746  36.350700   83.039  \n",
       "3445747  57.790100   24.400  \n",
       "3445748  32.233167    1.770  \n",
       "3445749  38.827499    1.720  \n",
       "3445750  57.564800  250.000  \n",
       "\n",
       "[3445751 rows x 7 columns]"
      ]
     },
     "execution_count": 18,
     "metadata": {},
     "output_type": "execute_result"
    }
   ],
   "source": [
    "# find the numerical data \n",
    "numerics = ['int16', 'int32', 'int64', 'float16', 'float32', 'float64']\n",
    "\n",
    "numerical_df =data.select_dtypes(include=numerics)\n",
    "len(numerical_df.columns)\n",
    "numerical_df\n"
   ]
  },
  {
   "cell_type": "code",
   "execution_count": 19,
   "metadata": {},
   "outputs": [
    {
     "data": {
      "text/plain": [
       "time            0.0\n",
       "place           0.0\n",
       "status          0.0\n",
       "tsunami         0.0\n",
       "significance    0.0\n",
       "data_type       0.0\n",
       "magnitudo       0.0\n",
       "state           0.0\n",
       "longitude       0.0\n",
       "latitude        0.0\n",
       "depth           0.0\n",
       "date            0.0\n",
       "dtype: float64"
      ]
     },
     "execution_count": 19,
     "metadata": {},
     "output_type": "execute_result"
    }
   ],
   "source": [
    "# find missing values\n",
    "# data.isna()\n",
    "# data.isna().sum().sort_values(ascending=False)\n",
    "\n",
    "\"\"\"by default sort is ascending\"\"\"\n",
    "missing_percent = data.isna().sum().sort_values(ascending=False)/len(data)\n",
    "missing_percent\n",
    "## wow this dataset doesn't have any null, missing values"
   ]
  },
  {
   "cell_type": "code",
   "execution_count": 20,
   "metadata": {},
   "outputs": [
    {
     "data": {
      "text/plain": [
       "0          1990-01-01 00:22:33.990000+00:00\n",
       "1          1990-01-01 00:24:51.210000+00:00\n",
       "2          1990-01-01 00:34:43.450000+00:00\n",
       "3          1990-01-01 00:58:32.130000+00:00\n",
       "4          1990-01-01 01:03:44.490000+00:00\n",
       "                         ...               \n",
       "3445746    2023-07-29 10:34:11.941000+00:00\n",
       "3445747    2023-07-29 10:36:15.715000+00:00\n",
       "3445748    2023-07-29 10:40:15.940000+00:00\n",
       "3445749    2023-07-29 10:55:46.040000+00:00\n",
       "3445750    2023-07-29 11:08:57.884000+00:00\n",
       "Name: date, Length: 3445751, dtype: object"
      ]
     },
     "execution_count": 20,
     "metadata": {},
     "output_type": "execute_result"
    }
   ],
   "source": [
    "data.date"
   ]
  },
  {
   "cell_type": "code",
   "execution_count": 21,
   "metadata": {},
   "outputs": [],
   "source": [
    "# missing_percent=[missing_percent!=0] or missing_percent !=0 it's the same thing\n",
    "# missing_percent\n",
    "## just another way to say that none of the data values are null"
   ]
  },
  {
   "cell_type": "markdown",
   "metadata": {},
   "source": [
    "``` plots can be of different type```\n",
    "\n",
    "\n",
    " _an interesting one being mplot3d, scatter plot in 3d, 3d bar chart etc. are also there_"
   ]
  },
  {
   "cell_type": "code",
   "execution_count": 22,
   "metadata": {},
   "outputs": [],
   "source": [
    "## Here as the data doesn't have any missing values\n",
    "## there's no use of plotting graphs"
   ]
  },
  {
   "cell_type": "code",
   "execution_count": 23,
   "metadata": {},
   "outputs": [],
   "source": [
    "## data.drop()"
   ]
  },
  {
   "cell_type": "markdown",
   "metadata": {},
   "source": [
    "**Exploratory Data Analysis**"
   ]
  },
  {
   "cell_type": "code",
   "execution_count": 24,
   "metadata": {},
   "outputs": [
    {
     "data": {
      "text/plain": [
       "Index(['time', 'place', 'status', 'tsunami', 'significance', 'data_type',\n",
       "       'magnitudo', 'state', 'longitude', 'latitude', 'depth', 'date'],\n",
       "      dtype='object')"
      ]
     },
     "execution_count": 24,
     "metadata": {},
     "output_type": "execute_result"
    }
   ],
   "source": [
    "data.columns"
   ]
  },
  {
   "cell_type": "markdown",
   "metadata": {},
   "source": [
    "```Features\n",
    "\n",
    "time in millisecconds\n",
    "place\n",
    "status\n",
    "tsunami (boolean value)\n",
    "significance\n",
    "data_type\n",
    "magnitudo\n",
    "state\n",
    "longitude\n",
    "latitude\n",
    "depth\n",
    "date"
   ]
  },
  {
   "cell_type": "code",
   "execution_count": 25,
   "metadata": {},
   "outputs": [
    {
     "data": {
      "text/plain": [
       "0           96\n",
       "1           31\n",
       "2           19\n",
       "3           15\n",
       "4          134\n",
       "          ... \n",
       "3445746    326\n",
       "3445747     44\n",
       "3445748     90\n",
       "3445749     16\n",
       "3445750     12\n",
       "Name: significance, Length: 3445751, dtype: int64"
      ]
     },
     "execution_count": 25,
     "metadata": {},
     "output_type": "execute_result"
    }
   ],
   "source": [
    "data.significance\n",
    "# '''2910 is max and 0 is min'''\n",
    "# data.magnitudo"
   ]
  },
  {
   "cell_type": "code",
   "execution_count": 26,
   "metadata": {},
   "outputs": [
    {
     "data": {
      "text/plain": [
       "-9.99"
      ]
     },
     "execution_count": 26,
     "metadata": {},
     "output_type": "execute_result"
    }
   ],
   "source": [
    "data.magnitudo.min()"
   ]
  },
  {
   "cell_type": "code",
   "execution_count": 27,
   "metadata": {},
   "outputs": [
    {
     "name": "stdout",
     "output_type": "stream",
     "text": [
      "0          61.730200\n",
      "1          19.317667\n",
      "2          38.821000\n",
      "3          37.664333\n",
      "4          34.546000\n",
      "             ...    \n",
      "3445746    36.350700\n",
      "3445747    57.790100\n",
      "3445748    32.233167\n",
      "3445749    38.827499\n",
      "3445750    57.564800\n",
      "Name: latitude, Length: 3445751, dtype: float64 0         -149.669200\n",
      "1         -155.212333\n",
      "2         -122.806167\n",
      "3         -118.846333\n",
      "4         -118.934000\n",
      "              ...    \n",
      "3445746    139.940200\n",
      "3445747   -153.729900\n",
      "3445748   -115.296833\n",
      "3445749   -122.800499\n",
      "3445750   -155.051000\n",
      "Name: longitude, Length: 3445751, dtype: float64\n"
     ]
    }
   ],
   "source": [
    " print(data.latitude,data.longitude)\n",
    "# data.longitude"
   ]
  },
  {
   "cell_type": "markdown",
   "metadata": {},
   "source": [
    "_using this to find the geo location, and applying some geographical theory and analysis...this could also be used in geology research...also analysing the geography we can also derive out the reason for that particualr earthquake if time is put in for that..._"
   ]
  },
  {
   "cell_type": "code",
   "execution_count": 28,
   "metadata": {},
   "outputs": [
    {
     "data": {
      "text/plain": [
       "array([' Alaska', ' Hawaii', ' California', 'California', ' Washington',\n",
       "       ' Greece', ' Italy', ' Albania', ' Utah', 'Fiji region', ' Japan',\n",
       "       'south of the Fiji Islands', ' Saint Kitts and Nevis',\n",
       "       ' Indonesia', 'Central California', ' Solomon Islands',\n",
       "       ' Timor Leste', ' B.C.', ' Switzerland', ' New Caledonia',\n",
       "       ' Colombia', ' Nevada', ' Wyoming', 'Philippine Islands region',\n",
       "       'southern Mid-Atlantic Ridge', ' Papua New Guinea', ' Vanuatu',\n",
       "       ' France', ' Spain', ' Austria', ' North Carolina', ' Guam',\n",
       "       ' Chile', ' China', ' Montana', ' Philippines', ' Poland',\n",
       "       ' Virginia', 'Utah', ' Russia', 'northwest of Australia',\n",
       "       ' New Zealand', 'Northern California', ' Tonga', ' Idaho',\n",
       "       ' Taiwan', 'Bosnia and Herzegovina region', ' Oregon',\n",
       "       'southeast Indian Ridge', ' Slovenia', ' Iran', ' Afghanistan',\n",
       "       'Owen Fracture Zone region', ' Canada', ' Peru', ' Missouri',\n",
       "       ' Mexico', 'Mariana Islands region', ' Germany',\n",
       "       ' Antigua and Barbuda', 'Sea of Okhotsk', 'South Indian Ocean',\n",
       "       ' United Kingdom', ' Norway', 'California-Nevada border region',\n",
       "       ' Azerbaijan', 'northern Alaska', ' South Carolina', ' Algeria',\n",
       "       'Southwest Indian Ridge', ' Thailand', ' Tajikistan', ' Illinois',\n",
       "       ' Japan region', 'Kuril Islands', ' India', ' Micronesia',\n",
       "       'Macquarie Island region', ' Tennessee', ' Belgium',\n",
       "       'southeast of the Loyalty Islands', ' U.S. Virgin Islands',\n",
       "       ' Fiji', ' Myanmar', ' Samoa', ' Turkey', 'southwest of Africa',\n",
       "       'south of Tonga', ' Nepal', ' HI', ' Croatia', ' Honduras',\n",
       "       'central Italy', 'Ionian Sea', 'south of Alaska',\n",
       "       'Mid-Indian Ridge', 'Xinjiang-Xizang border region',\n",
       "       'Reykjanes Ridge', 'near the coast of Nicaragua', 'Croatia region',\n",
       "       'Greenland Sea', ' Arkansas', 'south of the Kermadec Islands',\n",
       "       ' Romania', ' Northern Mariana Islands', 'Leeward Islands',\n",
       "       ' Maryland', 'Kermadec Islands region',\n",
       "       'Near the coast of Central California', 'off the coast of Oregon',\n",
       "       'western Indian-Antarctic Ridge', 'Southern Alaska', 'Poland',\n",
       "       ' Bulgaria', ' Cyprus', ' Guadeloupe', ' Australia', 'France',\n",
       "       'South Sandwich Islands region', ' Martinique', ' Georgia',\n",
       "       ' Argentina', 'West Chile Rise', ' Panama', ' Guatemala',\n",
       "       'Washington', ' Ecuador', 'Tonga', ' AK', 'northern Italy', ' WA',\n",
       "       ' Massachusetts', 'near the coast of Northern California',\n",
       "       ' Egypt', 'Central Alaska', 'Norwegian Sea', ' Djibouti',\n",
       "       ' Indiana', 'Missouri-Arkansas border region', ' Kentucky',\n",
       "       'Banda Sea', ' Libya', ' Svalbard and Jan Mayen', 'Wyoming',\n",
       "       ' North Macedonia', ' Dominican Republic', 'northern Algeria',\n",
       "       ' South Dakota', 'Washington-British Columbia border region',\n",
       "       'northern Mid-Atlantic Ridge', ' New Mexico',\n",
       "       'South Atlantic Ocean', ' Nicaragua', 'western Xizang',\n",
       "       ' Kyrgyzstan', ' Venezuela', ' Puerto Rico', ' Saint Lucia',\n",
       "       'Bismarck Sea', 'Vanuatu region', ' Canada region', 'Germany',\n",
       "       'Greece-Albania border region', ' NV', ' Oklahoma', ' El Salvador',\n",
       "       ' Portugal', ' Bosnia and Herzegovina', 'south of Panama',\n",
       "       ' Aleutian Islands', 'central East Pacific Rise', ' Serbia',\n",
       "       ' Ghana', ' Trinidad and Tobago', ' India region', ' Brazil',\n",
       "       'Pacific-Antarctic Ridge', ' New Zealand region', ' South Africa',\n",
       "       ' Costa Rica', ' Montenegro', 'Tennessee', ' Dominica',\n",
       "       ' Wallis and Futuna', ' Iraq', 'southern East Pacific Rise',\n",
       "       ' Montserrat', ' Palau', ' Ecuador region', ' AZ', 'Molucca Sea',\n",
       "       ' Bolivia', 'Idaho-Montana border region', ' Pakistan',\n",
       "       'Easter Island region', 'Near the coast of western Turkey', ' MT',\n",
       "       ' Uzbekistan', ' Malawi', 'north of New Zealand',\n",
       "       'east of the Kuril Islands', ' Somalia', 'northwestern Kashmir',\n",
       "       ' Ñuñoa', 'Western Turkey', 'Vanuatu',\n",
       "       'Mauritius - Reunion region', ' Hungary', 'Balleny Islands region',\n",
       "       'Nicaragua', ' Russia region', ' Sweden', ' Morocco', ' Kenya',\n",
       "       'Gulf of Alaska', 'Chile-Bolivia border region', 'western Iran',\n",
       "       'central Mid-Atlantic Ridge', 'Indian Ocean Triple Junction',\n",
       "       ' Czechia', ' Iceland', 'Guam region', 'Windward Islands',\n",
       "       'northern East Pacific Rise', 'near the south coast of France',\n",
       "       'west of Gibraltar', 'Greece', ' Alabama',\n",
       "       'off the coast of Central America', ' Guyana', ' Maine',\n",
       "       \"D'Entrecasteaux Islands region\", 'Pyrenees', 'North Sea',\n",
       "       ' Tunisia', 'west of Macquarie Island', ' Tanzania',\n",
       "       'north of Severnaya Zemlya', 'north of Franz Josef Land',\n",
       "       ' Mongolia', ' Kazakhstan', ' Kosovo', 'Spain',\n",
       "       'east of the North Island of New Zealand', ' Grenada',\n",
       "       ' Turkmenistan', ' Barbados', ' Ohio', ' Laikit II (Dimembe)',\n",
       "       'off the east coast of the North Island of New Zealand',\n",
       "       'east of the South Sandwich Islands', ' Sulawesi', ' UT',\n",
       "       'near the coast of Guatemala', 'Scotia Sea', 'north of Svalbard',\n",
       "       'Azores-Cape St. Vincent Ridge', 'Taiwan region',\n",
       "       'Slovenia-Croatia border region', 'Aegean Sea', ' Haiti',\n",
       "       'Bouvet Island region', ' Jersey', ' Ethiopia', 'southern Italy',\n",
       "       'Carlsberg Ridge', ' Oman',\n",
       "       'off the east coast of the United States',\n",
       "       'southeast of Easter Island', 'near the coast of Ecuador',\n",
       "       'east of the Philippine Islands', ' North Korea',\n",
       "       'Svalbard region', 'Strait of Gibraltar', 'Albania',\n",
       "       ' Netherlands', 'Washington-Oregon border region', ' South Sudan',\n",
       "       ' Anguilla', 'Cuba region', 'Sudan', 'Cape Verde', 'Armenia',\n",
       "       'southern Greece', 'Costa Rica', 'Nevada',\n",
       "       ' French Polynesia region', ' Uganda', ' Saudi Arabia',\n",
       "       ' Botswana', ' Mozambique', 'east central Pacific Ocean',\n",
       "       'south of the Aleutian Islands', 'South Shetland Islands',\n",
       "       'Switzerland', 'southwestern Atlantic Ocean',\n",
       "       'Revilla Gigedo Islands region', 'Near the coast of northern Iran',\n",
       "       'northwestern Iran', 'Northern Iran', ' Zimbabwe',\n",
       "       'south of Timor', 'Laptev Sea', ' Ukraine', ' Texas',\n",
       "       'Afghanistan-Tajikistan border region',\n",
       "       'north of Ascension Island', 'near the south coast of Myanmar',\n",
       "       'South Island of New Zealand', ' Laos', ' Nebraska',\n",
       "       ' Saint Vincent and the Grenadines', 'Solomon Islands',\n",
       "       ' Federated States of Micronesia', ' Kalibo',\n",
       "       'off the coast of northern Peru', 'northern Colombia',\n",
       "       'Macedonia region', ' Mauritius', 'Azores Islands region',\n",
       "       'Ligurian Sea', 'Adriatic Sea', 'South Africa',\n",
       "       'Croatia-Bosnia-Montenegro border region', ' Lesotho', ' Cuba',\n",
       "       ' Democratic Republic of the Congo', 'Drake Passage', ' Colorado',\n",
       "       ' Israel', ' Yemen', 'Kyrgyzstan', ' Burundi', ' Cameroon',\n",
       "       ' Slovakia', 'Tonga region', 'Western Montana',\n",
       "       'off the coast of Northern California',\n",
       "       'western Mediterranean Sea', ' Bangladesh',\n",
       "       'Chile-Argentina border region', 'Nepal-India border region',\n",
       "       'Prince Edward Islands region', 'Alaska Peninsula', ' New Jersey',\n",
       "       'Gulf of California', 'southern Norway', ' Malta', ' Syria',\n",
       "       'off the west coast of northern Sumatra',\n",
       "       'Greece-Bulgaria border region', 'southern Iran', ' Bonaire',\n",
       "       ' Nunavut', 'central Mediterranean Sea', ' Cayman Islands',\n",
       "       'south of Africa', ' Jamaica', 'Taiwan', 'central Peru',\n",
       "       'Galapagos Triple Junction region', 'East of the Volcano Islands',\n",
       "       'Illinois-Indiana border region', ' Pennsylvania',\n",
       "       'Tristan da Cunha region', 'near the coast of central Peru',\n",
       "       'Colombia', ' Greenland', 'Bosnia and Herzegovina',\n",
       "       'northwest of the Kuril Islands', ' Zambia',\n",
       "       'Austria-Hungary border region', 'Turkey-Syria-Iraq border region',\n",
       "       'Colombia-Venezuela border region', ' Mississippi',\n",
       "       'Iceland region', 'southern Idaho', ' Spain region',\n",
       "       'Montenegro-Albania border region', ' Arizona', 'Bering Sea',\n",
       "       'Northern Peru', 'north of Macquarie Island', ' Lebanon',\n",
       "       'Macedonia-Serbia border region',\n",
       "       'Afghanistan-Tajikistan-Pakistan region', 'Southeastern Alaska',\n",
       "       ' Denmark', 'east of Severnaya Zemlya', 'northern Peru',\n",
       "       ' Armenia', ' Cabo Verde', ' New York',\n",
       "       'near the coast of Venezuela', 'south of the Mariana Islands',\n",
       "       ' Madagascar', ' West Virginia', 'Guatemala',\n",
       "       'Russia-Georgia border region', \"Georgia (Sak'art'velo)\",\n",
       "       'Uzbekistan-Kyrgyzstan border region',\n",
       "       'Peru-Bolivia border region', 'Georgia-Azerbaijan border region',\n",
       "       'Chagos Archipelago region', 'Romania', 'Caspian Sea', ' Malaysia',\n",
       "       'Tennessee-North Carolina border region', ' Kansas',\n",
       "       'eastern Greenland', 'central Mongolia',\n",
       "       'eastern Mediterranean Sea',\n",
       "       'Federated States of Micronesia region', ' Saint Helena', ' WY',\n",
       "       ' Monaco', ' San Felipe', 'west of the Galapagos Islands',\n",
       "       'South Pacific Ocean', 'North Atlantic Ocean',\n",
       "       'West of the Queen Charlotte Islands', ' Finland',\n",
       "       'Albania-Serbia-Montenegro border region', ' OR', 'Celebes Sea',\n",
       "       'Ascension Island region', 'Off the coast of southern Peru',\n",
       "       'Sea of Japan', 'off the coast of Ecuador', 'Tunisia',\n",
       "       'off the west coast of the South Island of New Zealand',\n",
       "       'Dead Sea region', ' New Hampshire', 'Santa Cruz Islands region',\n",
       "       ' Vietnam', 'near the west coast of Colombia',\n",
       "       'Crozet Islands region', 'Jan Mayen Island region', ' Connecticut',\n",
       "       ' Liechtenstein', 'off the coast of Southeastern Alaska',\n",
       "       'Myanmar', 'West of the Mariana Islands', 'Santa Cruz Islands',\n",
       "       'Croatia-Bosnia and Herzegovina border region',\n",
       "       'Xizang-Qinghai border region', 'Morocco',\n",
       "       'Albania-Macedonia border region',\n",
       "       'Afghanistan-Pakistan border region', 'northeast of Taiwan',\n",
       "       'near the coast of central Chile', 'Bay of Bengal',\n",
       "       'Peru-Ecuador border region', 'Russia-Mongolia border region',\n",
       "       'southeast of Australia', ' Andorra', 'Serbia', 'northern Norway',\n",
       "       'southern Peru', ' Son.',\n",
       "       'California-Baja California border region',\n",
       "       'near the north coast of Greenland', ' Belize', ' Brunei',\n",
       "       ' Bahamas', 'North Pacific Ocean', ' Rwanda', 'south of Australia',\n",
       "       'Eastern Xizang', 'Austria-Italy-Slovenia border region',\n",
       "       'Macedonia', 'The Netherlands', 'Belgium', 'Philippine Sea',\n",
       "       ' Ireland',\n",
       "       'Bosnia and Herzegovina-Serbia-Montenegro border region',\n",
       "       'Timor Sea', 'eastern Turkey', 'Davis Strait',\n",
       "       'Turkey-Syria border region', 'Austria-Slovenia border region',\n",
       "       'Alabama', 'Arizona', 'Austria', 'Western Australia',\n",
       "       'southwest of the Galapagos Islands', ' Jordan',\n",
       "       ' el Tibidabo i les Planes', 'North Island of New Zealand',\n",
       "       ' Louisiana', 'Baffin Bay', 'South Carolina',\n",
       "       'Kentucky-Tennessee border region', 'Oregon', 'Oklahoma',\n",
       "       'off the coast of Mexico', ' Bermuda',\n",
       "       'off the coast of Washington', ' South Korea',\n",
       "       'Kerguelen Islands region'], dtype=object)"
      ]
     },
     "execution_count": 28,
     "metadata": {},
     "output_type": "execute_result"
    }
   ],
   "source": [
    "y = data.state.unique()\n",
    "\n",
    "y[:500]"
   ]
  },
  {
   "cell_type": "code",
   "execution_count": 30,
   "metadata": {},
   "outputs": [
    {
     "data": {
      "text/plain": [
       "state\n",
       " California                  866675\n",
       " Alaska                      777881\n",
       "California                   491689\n",
       " Nevada                      174065\n",
       " Hawaii                      125336\n",
       "                              ...  \n",
       " Venezuela                     1472\n",
       "Reykjanes Ridge                1435\n",
       " Algeria                       1408\n",
       "east of the Kuril Islands      1401\n",
       "Wyoming                        1385\n",
       "Name: count, Length: 100, dtype: int64"
      ]
     },
     "execution_count": 30,
     "metadata": {},
     "output_type": "execute_result"
    }
   ],
   "source": [
    "Earthquake_state = data.state.value_counts()\n",
    "Earthquake_state[:100]\n"
   ]
  },
  {
   "cell_type": "markdown",
   "metadata": {},
   "source": [
    "## Quest\n",
    "```\n",
    "1. which state is most prone to earthquake in order of intensity?\n",
    "2. are there any seasonal patterns in earthquake occurrence"
   ]
  },
  {
   "cell_type": "code",
   "execution_count": 31,
   "metadata": {},
   "outputs": [
    {
     "data": {
      "text/plain": [
       "False"
      ]
     },
     "execution_count": 31,
     "metadata": {},
     "output_type": "execute_result"
    }
   ],
   "source": [
    "# if 'Alaska' in data.state:\n",
    "# print(\"true\") Or\n",
    "\"Hawaii\" in data.state\n",
    "\n",
    "   \n",
    "## one error here, Hawaii is clearly there in states but it's printing false\n",
    "# earthquakes in Indonesia haven't been recorded in this!\n",
    "## but there were very bad earthquakes in indonesia too......"
   ]
  },
  {
   "cell_type": "code",
   "execution_count": 32,
   "metadata": {},
   "outputs": [
    {
     "data": {
      "text/plain": [
       "<Axes: ylabel='state'>"
      ]
     },
     "execution_count": 32,
     "metadata": {},
     "output_type": "execute_result"
    },
    {
     "data": {
      "image/png": "[encoded data removed]",
      "text/plain": [
       "<Figure size 640x480 with 1 Axes>"
      ]
     },
     "metadata": {},
     "output_type": "display_data"
    }
   ],
   "source": [
    "Earthquake_state[:30].plot(kind=\"barh\")"
   ]
  },
  {
   "cell_type": "code",
   "execution_count": 35,
   "metadata": {},
   "outputs": [],
   "source": [
    "# def f(x,y):\n",
    "#      return (1 - y**5 + x**5)*np.exp(-x**2-y**2)\n",
    "\n",
    "# x=data.time[:50]\n",
    "# y=data.magnitudo[:50]\n",
    "# # z=data.significance[:50]\n",
    "# X,Y = np.meshgrid(x,y)\n",
    "# C=plt.contour(X,Y,f(x,y),8,colors=\"black\")\n",
    "# plt.contour(f(X<Y),8,cmap=plt.cm.hot)\n",
    "# plt.clabel(C,inline=1,fontsize=10)\n",
    "# plt.colorbar()"
   ]
  },
  {
   "cell_type": "code",
   "execution_count": 36,
   "metadata": {},
   "outputs": [],
   "source": [
    "import seaborn as sns\n",
    "sns.set_style(\"darkgrid\")\n"
   ]
  },
  {
   "cell_type": "code",
   "execution_count": 38,
   "metadata": {},
   "outputs": [
    {
     "data": {
      "text/plain": [
       "<Axes: xlabel='count', ylabel='Count'>"
      ]
     },
     "execution_count": 38,
     "metadata": {},
     "output_type": "execute_result"
    },
    {
     "data": {
      "image/png": "[encoded data removed]",
      "text/plain": [
       "<Figure size 640x480 with 1 Axes>"
      ]
     },
     "metadata": {},
     "output_type": "display_data"
    }
   ],
   "source": [
    "type(y[:20])\n",
    "sns.histplot(Earthquake_state[:70])\n"
   ]
  },
  {
   "cell_type": "code",
   "execution_count": 40,
   "metadata": {},
   "outputs": [
    {
     "data": {
      "text/plain": [
       "<Axes: xlabel='time', ylabel='Count'>"
      ]
     },
     "execution_count": 40,
     "metadata": {},
     "output_type": "execute_result"
    },
    {
     "data": {
      "image/png": "[encoded data removed]",
      "text/plain": [
       "<Figure size 640x480 with 1 Axes>"
      ]
     },
     "metadata": {},
     "output_type": "display_data"
    }
   ],
   "source": [
    "sns.histplot(data=data, x=data.time,log_scale=True)"
   ]
  },
  {
   "cell_type": "markdown",
   "metadata": {},
   "source": [
    "``` log_scale helps in better visualization of  distribution.```"
   ]
  },
  {
   "cell_type": "code",
   "execution_count": 41,
   "metadata": {},
   "outputs": [
    {
     "data": {
      "text/plain": [
       "0.17482517482517482"
      ]
     },
     "execution_count": 41,
     "metadata": {},
     "output_type": "execute_result"
    }
   ],
   "source": [
    "highMagnitude_earthquakeProne_states = Earthquake_state[Earthquake_state>500]\n",
    "lesserMagnitudeEarthquakeRegions = Earthquake_state[Earthquake_state<500]\n",
    "len(highMagnitude_earthquakeProne_states)/len(Earthquake_state)"
   ]
  },
  {
   "cell_type": "code",
   "execution_count": 42,
   "metadata": {},
   "outputs": [
    {
     "data": {
      "text/plain": [
       "<Axes: xlabel='count', ylabel='Count'>"
      ]
     },
     "execution_count": 42,
     "metadata": {},
     "output_type": "execute_result"
    },
    {
     "data": {
      "image/png": "[encoded data removed]",
      "text/plain": [
       "<Figure size 640x480 with 1 Axes>"
      ]
     },
     "metadata": {},
     "output_type": "display_data"
    }
   ],
   "source": [
    "sns.histplot(highMagnitude_earthquakeProne_states,log_scale=True)"
   ]
  },
  {
   "cell_type": "code",
   "execution_count": 43,
   "metadata": {},
   "outputs": [
    {
     "data": {
      "text/plain": [
       "state\n",
       " California                   866675\n",
       " Alaska                       777881\n",
       "California                    491689\n",
       " Nevada                       174065\n",
       " Hawaii                       125336\n",
       "                               ...  \n",
       " Wallis and Futuna              1068\n",
       " India region                   1066\n",
       "southern East Pacific Rise      1041\n",
       " Guadeloupe                     1040\n",
       " Iceland                        1022\n",
       "Name: count, Length: 120, dtype: int64"
      ]
     },
     "execution_count": 43,
     "metadata": {},
     "output_type": "execute_result"
    }
   ],
   "source": [
    "Earthquake_state[Earthquake_state>1000]\n",
    "# Earthquake_state.unique().max()\n",
    "# data.state.unique().max()\n",
    "#states where only 1 earthquake was recorded"
   ]
  },
  {
   "cell_type": "code",
   "execution_count": 44,
   "metadata": {},
   "outputs": [
    {
     "data": {
      "text/plain": [
       "<Axes: xlabel='count', ylabel='Count'>"
      ]
     },
     "execution_count": 44,
     "metadata": {},
     "output_type": "execute_result"
    },
    {
     "data": {
      "image/png": "[encoded data removed]",
      "text/plain": [
       "<Figure size 640x480 with 1 Axes>"
      ]
     },
     "metadata": {},
     "output_type": "display_data"
    }
   ],
   "source": [
    "sns.histplot(lesserMagnitudeEarthquakeRegions,log_scale=True)"
   ]
  },
  {
   "cell_type": "markdown",
   "metadata": {},
   "source": [
    "```Some drawn insights```\n",
    "```\n",
    " 1. Maximum no. of earthquakes take place in California with 866398 Earthquakes! \n",
    " 2. More than 17% of the states are more prone to earthquakes than the rest of the states. \n",
    "3.  120 states have recorded over 1000 earthquakes.\n",
    "4. states recording max no. of earthquakes are the most severe ones also, with max time as well..\n",
    "5. counts of earthquake and time are related by a graph similar to e^x, with some points of  sudden changes"
   ]
  },
  {
   "cell_type": "markdown",
   "metadata": {},
   "source": [
    "**are earthqaukes someway predictable according to some pattern if followed with climate or some particular period of the year causing earthquakes due to natural reasons or Induced Seismicity?**"
   ]
  },
  {
   "cell_type": "code",
   "execution_count": 45,
   "metadata": {},
   "outputs": [
    {
     "data": {
      "text/plain": [
       "Index(['time', 'place', 'status', 'tsunami', 'significance', 'data_type',\n",
       "       'magnitudo', 'state', 'longitude', 'latitude', 'depth', 'date'],\n",
       "      dtype='object')"
      ]
     },
     "execution_count": 45,
     "metadata": {},
     "output_type": "execute_result"
    }
   ],
   "source": [
    "data.columns"
   ]
  },
  {
   "cell_type": "code",
   "execution_count": 46,
   "metadata": {},
   "outputs": [],
   "source": [
    "# date Vs. earthquake frequency"
   ]
  },
  {
   "cell_type": "code",
   "execution_count": 47,
   "metadata": {},
   "outputs": [
    {
     "data": {
      "text/plain": [
       "'1990-01-01 00:22:33.990000+00:00'"
      ]
     },
     "execution_count": 47,
     "metadata": {},
     "output_type": "execute_result"
    }
   ],
   "source": [
    "data.date[0]"
   ]
  },
  {
   "cell_type": "markdown",
   "metadata": {},
   "source": [
    "_data.date is an object but it can be converted to int using regexp also but there's another method in built in pandas for typecasting_"
   ]
  },
  {
   "cell_type": "code",
   "execution_count": 55,
   "metadata": {},
   "outputs": [
    {
     "ename": "AttributeError",
     "evalue": "'DataFrame' object has no attribute 'date'",
     "output_type": "error",
     "traceback": [
      "\u001b[1;31m---------------------------------------------------------------------------\u001b[0m",
      "\u001b[1;31mAttributeError\u001b[0m                            Traceback (most recent call last)",
      "\u001b[1;32m~\\AppData\\Local\\Temp\\ipykernel_7836\\3448612484.py\u001b[0m in \u001b[0;36m?\u001b[1;34m()\u001b[0m\n\u001b[0;32m      1\u001b[0m \u001b[1;32mimport\u001b[0m \u001b[0mre\u001b[0m\u001b[1;33m\u001b[0m\u001b[1;33m\u001b[0m\u001b[0m\n\u001b[1;32m----> 2\u001b[1;33m \u001b[0mstrings\u001b[0m \u001b[1;33m=\u001b[0m \u001b[0mdata\u001b[0m\u001b[1;33m.\u001b[0m\u001b[0mdate\u001b[0m\u001b[1;33m\u001b[0m\u001b[1;33m\u001b[0m\u001b[0m\n\u001b[0m\u001b[0;32m      3\u001b[0m \u001b[0mpattern\u001b[0m \u001b[1;33m=\u001b[0m \u001b[1;34mr'\\.\\d+'\u001b[0m\u001b[1;33m\u001b[0m\u001b[1;33m\u001b[0m\u001b[0m\n\u001b[0;32m      4\u001b[0m \u001b[1;33m\u001b[0m\u001b[0m\n\u001b[0;32m      5\u001b[0m \u001b[0mdata\u001b[0m\u001b[1;33m.\u001b[0m\u001b[0mdateTime\u001b[0m \u001b[1;33m=\u001b[0m \u001b[1;33m[\u001b[0m\u001b[0mre\u001b[0m\u001b[1;33m.\u001b[0m\u001b[0msub\u001b[0m\u001b[1;33m(\u001b[0m\u001b[0mpattern\u001b[0m\u001b[1;33m,\u001b[0m \u001b[1;34m''\u001b[0m\u001b[1;33m,\u001b[0m \u001b[0ms\u001b[0m\u001b[1;33m)\u001b[0m \u001b[1;32mfor\u001b[0m \u001b[0ms\u001b[0m \u001b[1;32min\u001b[0m \u001b[0mstrings\u001b[0m\u001b[1;33m]\u001b[0m\u001b[1;33m\u001b[0m\u001b[1;33m\u001b[0m\u001b[0m\n",
      "\u001b[1;32mc:\\Users\\HP\\AppData\\Local\\Programs\\Python\\Python311\\Lib\\site-packages\\pandas\\core\\generic.py\u001b[0m in \u001b[0;36m?\u001b[1;34m(self, name)\u001b[0m\n\u001b[0;32m   5985\u001b[0m             \u001b[1;32mand\u001b[0m \u001b[0mname\u001b[0m \u001b[1;32mnot\u001b[0m \u001b[1;32min\u001b[0m \u001b[0mself\u001b[0m\u001b[1;33m.\u001b[0m\u001b[0m_accessors\u001b[0m\u001b[1;33m\u001b[0m\u001b[1;33m\u001b[0m\u001b[0m\n\u001b[0;32m   5986\u001b[0m             \u001b[1;32mand\u001b[0m \u001b[0mself\u001b[0m\u001b[1;33m.\u001b[0m\u001b[0m_info_axis\u001b[0m\u001b[1;33m.\u001b[0m\u001b[0m_can_hold_identifiers_and_holds_name\u001b[0m\u001b[1;33m(\u001b[0m\u001b[0mname\u001b[0m\u001b[1;33m)\u001b[0m\u001b[1;33m\u001b[0m\u001b[1;33m\u001b[0m\u001b[0m\n\u001b[0;32m   5987\u001b[0m         ):\n\u001b[0;32m   5988\u001b[0m             \u001b[1;32mreturn\u001b[0m \u001b[0mself\u001b[0m\u001b[1;33m[\u001b[0m\u001b[0mname\u001b[0m\u001b[1;33m]\u001b[0m\u001b[1;33m\u001b[0m\u001b[1;33m\u001b[0m\u001b[0m\n\u001b[1;32m-> 5989\u001b[1;33m         \u001b[1;32mreturn\u001b[0m \u001b[0mobject\u001b[0m\u001b[1;33m.\u001b[0m\u001b[0m__getattribute__\u001b[0m\u001b[1;33m(\u001b[0m\u001b[0mself\u001b[0m\u001b[1;33m,\u001b[0m \u001b[0mname\u001b[0m\u001b[1;33m)\u001b[0m\u001b[1;33m\u001b[0m\u001b[1;33m\u001b[0m\u001b[0m\n\u001b[0m",
      "\u001b[1;31mAttributeError\u001b[0m: 'DataFrame' object has no attribute 'date'"
     ]
    }
   ],
   "source": [
    "# import re\n",
    "# strings = data.date\n",
    "# pattern = r'\\.\\d+'\n",
    "\n",
    "# data.dateTime = [re.sub(pattern, '', s) for s in strings]\n",
    "# pattern = r'\\+\\d{2}:\\d{2}$'\n",
    "\n",
    "# strings = [re.sub(pattern, '', s) for s in strings]\n",
    "# data['date'] = pd.to_datetime(data[\"date\"],format=\"%Y-%m-%d %H:%M:%S\").dt.month\n",
    "\n",
    "\n",
    "# print(data.dtypes)\n"
   ]
  },
  {
   "cell_type": "code",
   "execution_count": null,
   "metadata": {},
   "outputs": [],
   "source": [
    "x=data.date"
   ]
  },
  {
   "cell_type": "code",
   "execution_count": 50,
   "metadata": {},
   "outputs": [],
   "source": [
    "# data.date.astype(\"int32\").dtypes\n",
    "# data[[\"date\",\"state\"]]\n",
    "# # data.date.max()"
   ]
  },
  {
   "cell_type": "markdown",
   "metadata": {},
   "source": [
    "_data.date now returns month_\n",
    "\n",
    "```so from this we can say that max earthquakes take place in dec```"
   ]
  },
  {
   "cell_type": "code",
   "execution_count": 51,
   "metadata": {},
   "outputs": [
    {
     "data": {
      "text/plain": [
       "0          1990-01-01 00:22:33.990000+00:00\n",
       "1          1990-01-01 00:24:51.210000+00:00\n",
       "2          1990-01-01 00:34:43.450000+00:00\n",
       "3          1990-01-01 00:58:32.130000+00:00\n",
       "4          1990-01-01 01:03:44.490000+00:00\n",
       "                         ...               \n",
       "3445746    2023-07-29 10:34:11.941000+00:00\n",
       "3445747    2023-07-29 10:36:15.715000+00:00\n",
       "3445748    2023-07-29 10:40:15.940000+00:00\n",
       "3445749    2023-07-29 10:55:46.040000+00:00\n",
       "3445750    2023-07-29 11:08:57.884000+00:00\n",
       "Name: month, Length: 3445751, dtype: object"
      ]
     },
     "execution_count": 51,
     "metadata": {},
     "output_type": "execute_result"
    }
   ],
   "source": [
    "data.rename(columns={\"date\":\"month\"},inplace=True)\n",
    "data.month\n",
    "## so now the name has been changed"
   ]
  },
  {
   "cell_type": "code",
   "execution_count": 52,
   "metadata": {},
   "outputs": [
    {
     "ename": "AttributeError",
     "evalue": "'DataFrame' object has no attribute 'date'",
     "output_type": "error",
     "traceback": [
      "\u001b[1;31m---------------------------------------------------------------------------\u001b[0m",
      "\u001b[1;31mAttributeError\u001b[0m                            Traceback (most recent call last)",
      "\u001b[1;32m~\\AppData\\Local\\Temp\\ipykernel_7836\\3249606946.py\u001b[0m in \u001b[0;36m?\u001b[1;34m()\u001b[0m\n\u001b[1;32m----> 1\u001b[1;33m \u001b[0mprint\u001b[0m\u001b[1;33m(\u001b[0m\u001b[0mdata\u001b[0m\u001b[1;33m.\u001b[0m\u001b[0mdate\u001b[0m\u001b[1;33m.\u001b[0m\u001b[0mvalue_counts\u001b[0m\u001b[1;33m(\u001b[0m\u001b[1;33m)\u001b[0m\u001b[1;33m.\u001b[0m\u001b[0mmax\u001b[0m\u001b[1;33m(\u001b[0m\u001b[1;33m)\u001b[0m\u001b[1;33m)\u001b[0m\u001b[1;33m\u001b[0m\u001b[1;33m\u001b[0m\u001b[0m\n\u001b[0m\u001b[0;32m      2\u001b[0m \u001b[1;31m#this output will give on which month max no. of earthquakes took place in the period of 1990-2023\u001b[0m\u001b[1;33m\u001b[0m\u001b[1;33m\u001b[0m\u001b[0m\n",
      "\u001b[1;32mc:\\Users\\HP\\AppData\\Local\\Programs\\Python\\Python311\\Lib\\site-packages\\pandas\\core\\generic.py\u001b[0m in \u001b[0;36m?\u001b[1;34m(self, name)\u001b[0m\n\u001b[0;32m   5985\u001b[0m             \u001b[1;32mand\u001b[0m \u001b[0mname\u001b[0m \u001b[1;32mnot\u001b[0m \u001b[1;32min\u001b[0m \u001b[0mself\u001b[0m\u001b[1;33m.\u001b[0m\u001b[0m_accessors\u001b[0m\u001b[1;33m\u001b[0m\u001b[1;33m\u001b[0m\u001b[0m\n\u001b[0;32m   5986\u001b[0m             \u001b[1;32mand\u001b[0m \u001b[0mself\u001b[0m\u001b[1;33m.\u001b[0m\u001b[0m_info_axis\u001b[0m\u001b[1;33m.\u001b[0m\u001b[0m_can_hold_identifiers_and_holds_name\u001b[0m\u001b[1;33m(\u001b[0m\u001b[0mname\u001b[0m\u001b[1;33m)\u001b[0m\u001b[1;33m\u001b[0m\u001b[1;33m\u001b[0m\u001b[0m\n\u001b[0;32m   5987\u001b[0m         ):\n\u001b[0;32m   5988\u001b[0m             \u001b[1;32mreturn\u001b[0m \u001b[0mself\u001b[0m\u001b[1;33m[\u001b[0m\u001b[0mname\u001b[0m\u001b[1;33m]\u001b[0m\u001b[1;33m\u001b[0m\u001b[1;33m\u001b[0m\u001b[0m\n\u001b[1;32m-> 5989\u001b[1;33m         \u001b[1;32mreturn\u001b[0m \u001b[0mobject\u001b[0m\u001b[1;33m.\u001b[0m\u001b[0m__getattribute__\u001b[0m\u001b[1;33m(\u001b[0m\u001b[0mself\u001b[0m\u001b[1;33m,\u001b[0m \u001b[0mname\u001b[0m\u001b[1;33m)\u001b[0m\u001b[1;33m\u001b[0m\u001b[1;33m\u001b[0m\u001b[0m\n\u001b[0m",
      "\u001b[1;31mAttributeError\u001b[0m: 'DataFrame' object has no attribute 'date'"
     ]
    }
   ],
   "source": [
    "print(data.month.value_counts().max())\n",
    "#this output will give on which month max no. of earthquakes took place in the period of 1990-2023"
   ]
  },
  {
   "cell_type": "markdown",
   "metadata": {},
   "source": [
    "###### **California is most prone to earthquakes because it lies on the San Andreas Fault, which is the tectonic boundary between the Pacific and North American tectonic plates. The Pacific Plate is moving slowly to the northwest relative to the North American Plate, which underlies most of the Pacific Ocean, as well as all California west of the San Andreas fault.**"
   ]
  },
  {
   "cell_type": "code",
   "execution_count": null,
   "metadata": {},
   "outputs": [
    {
     "data": {
      "text/plain": [
       "<Axes: xlabel='date', ylabel='Count'>"
      ]
     },
     "execution_count": 70,
     "metadata": {},
     "output_type": "execute_result"
    },
    {
     "data": {
      "image/png": "[encoded data removed]",
      "text/plain": [
       "<Figure size 640x480 with 1 Axes>"
      ]
     },
     "metadata": {},
     "output_type": "display_data"
    }
   ],
   "source": [
    "sns.histplot(data.date,binwidth = 0.3)"
   ]
  },
  {
   "cell_type": "code",
   "execution_count": null,
   "metadata": {},
   "outputs": [],
   "source": [
    "# extract the month in which max no. of earthquakes take place"
   ]
  },
  {
   "cell_type": "markdown",
   "metadata": {},
   "source": [
    "```extract the months of all earthquake records and sort it in accordance with states . use this to cross check with what all activities have happened in that region in that particuar period which could have been a possible reason for earthquake, like nuckear tests, fluid injection and disposal, geothermal energy extraction.```"
   ]
  },
  {
   "cell_type": "code",
   "execution_count": null,
   "metadata": {},
   "outputs": [],
   "source": [
    "## based on the yr. recording max. earthquakes, activities of that year can be analysed as this stats would gather attention for geological research and analysis as well ..."
   ]
  },
  {
   "cell_type": "markdown",
   "metadata": {},
   "source": [
    "###### California is most prone to earthquakes because it lies on the San Andreas Fault, which is the tectonic boundary between the Pacific and North American tectonic plates. The Pacific Plate is moving slowly to the northwest relative to the North American Plate, which underlies most of the Pacific Ocean, as well as all California west of the San Andreas fault."
   ]
  },
  {
   "cell_type": "code",
   "execution_count": null,
   "metadata": {},
   "outputs": [
    {
     "ename": "NameError",
     "evalue": "name 'data' is not defined",
     "output_type": "error",
     "traceback": [
      "\u001b[1;31m---------------------------------------------------------------------------\u001b[0m",
      "\u001b[1;31mNameError\u001b[0m                                 Traceback (most recent call last)",
      "Cell \u001b[1;32mIn[1], line 1\u001b[0m\n\u001b[1;32m----> 1\u001b[0m data\u001b[39m.\u001b[39mssstime\u001b[39m.\u001b[39mvalue_counts()\u001b[39m.\u001b[39mplot(kind\u001b[39m=\u001b[39m\u001b[39m\"\u001b[39m\u001b[39mpie\u001b[39m\u001b[39m\"\u001b[39m)\n",
      "\u001b[1;31mNameError\u001b[0m: name 'data' is not defined"
     ]
    }
   ],
   "source": [
    " data.ssstime.value_counts().plot(kind=\"pie\")"
   ]
  },
  {
   "cell_type": "code",
   "execution_count": null,
   "metadata": {},
   "outputs": [],
   "source": [
    "x=data.month\n",
    "y=data.significance\n",
    "plt.figure(figsize=(10,6))\n",
    "plt.plot(x,y,marker=\"o\",linstyle=\"-\")\n",
    "plt.title(\"Earthquake Significance/Impact Over Time\")\n",
    "plt.xlabel('Time')\n",
    "plt.ylabel('Significance')\n",
    "plt.grid(True)\n",
    "plt.tight_layout()\n",
    "plt.show()"
   ]
  },
  {
   "cell_type": "code",
   "execution_count": null,
   "metadata": {},
   "outputs": [],
   "source": [
    "smaller_part=data.sample(int(0.1*len(data)))\n",
    "smaller_part.value_counts().plot(kind=\"pie\")"
   ]
  },
  {
   "cell_type": "code",
   "execution_count": null,
   "metadata": {},
   "outputs": [
    {
     "name": "stdout",
     "output_type": "stream",
     "text": [
      "Note: you may need to restart the kernel to use updated packages.\n"
     ]
    },
    {
     "name": "stderr",
     "output_type": "stream",
     "text": [
      "ERROR: Could not find a version that satisfies the requirement mpl_toolkits (from versions: none)\n",
      "ERROR: No matching distribution found for mpl_toolkits\n"
     ]
    }
   ],
   "source": [
    "%pip install mpl_toolkits"
   ]
  },
  {
   "cell_type": "code",
   "execution_count": null,
   "metadata": {},
   "outputs": [],
   "source": [
    "# %matplotlib inline\n",
    "# from mpl_toolkits.basemap import Basemap\n",
    "# fig = plt.figure(figsize=(12,9))\n",
    "# m = Basemap(projection = 'mill', llcrnrlat = -90, urcrnrlat = 90, llcrnrlon = -180, urcrnrlon = 180, resolution = 'c')\n",
    "# m.drawcoastlines()\n",
    "# m.drawcountries(color='gray')\n",
    "# m.drawstates(color='gray')\n",
    "\n",
    "# lat = data['latitude'].tolist()\n",
    "# lon = data['longitude'].tolist()\n",
    "\n",
    "# m.scatter(lon, lat, latlon = True, s = 10, c = 'red', marker = 'o', alpha = 1)\n",
    "\n",
    "# plt.show()"
   ]
  },
  {
   "cell_type": "code",
   "execution_count": null,
   "metadata": {},
   "outputs": [
    {
     "name": "stderr",
     "output_type": "stream",
     "text": [
      "C:\\Users\\HP\\AppData\\Local\\Temp\\ipykernel_21144\\102421712.py:1: FutureWarning: In a future version of pandas all arguments of DataFrame.pivot will be keyword-only.\n",
      "  pivot_data = data.pivot(\"ssstime\",\"month\",\"significance\")\n"
     ]
    },
    {
     "ename": "KeyError",
     "evalue": "'month'",
     "output_type": "error",
     "traceback": [
      "\u001b[1;31m---------------------------------------------------------------------------\u001b[0m",
      "\u001b[1;31mKeyError\u001b[0m                                  Traceback (most recent call last)",
      "File \u001b[1;32mc:\\Users\\HP\\anaconda3\\Lib\\site-packages\\pandas\\core\\indexes\\base.py:3802\u001b[0m, in \u001b[0;36mIndex.get_loc\u001b[1;34m(self, key, method, tolerance)\u001b[0m\n\u001b[0;32m   3801\u001b[0m \u001b[39mtry\u001b[39;00m:\n\u001b[1;32m-> 3802\u001b[0m     \u001b[39mreturn\u001b[39;00m \u001b[39mself\u001b[39;49m\u001b[39m.\u001b[39;49m_engine\u001b[39m.\u001b[39;49mget_loc(casted_key)\n\u001b[0;32m   3803\u001b[0m \u001b[39mexcept\u001b[39;00m \u001b[39mKeyError\u001b[39;00m \u001b[39mas\u001b[39;00m err:\n",
      "File \u001b[1;32mc:\\Users\\HP\\anaconda3\\Lib\\site-packages\\pandas\\_libs\\index.pyx:138\u001b[0m, in \u001b[0;36mpandas._libs.index.IndexEngine.get_loc\u001b[1;34m()\u001b[0m\n",
      "File \u001b[1;32mc:\\Users\\HP\\anaconda3\\Lib\\site-packages\\pandas\\_libs\\index.pyx:165\u001b[0m, in \u001b[0;36mpandas._libs.index.IndexEngine.get_loc\u001b[1;34m()\u001b[0m\n",
      "File \u001b[1;32mpandas\\_libs\\hashtable_class_helper.pxi:5745\u001b[0m, in \u001b[0;36mpandas._libs.hashtable.PyObjectHashTable.get_item\u001b[1;34m()\u001b[0m\n",
      "File \u001b[1;32mpandas\\_libs\\hashtable_class_helper.pxi:5753\u001b[0m, in \u001b[0;36mpandas._libs.hashtable.PyObjectHashTable.get_item\u001b[1;34m()\u001b[0m\n",
      "\u001b[1;31mKeyError\u001b[0m: 'month'",
      "\nThe above exception was the direct cause of the following exception:\n",
      "\u001b[1;31mKeyError\u001b[0m                                  Traceback (most recent call last)",
      "Cell \u001b[1;32mIn[10], line 1\u001b[0m\n\u001b[1;32m----> 1\u001b[0m pivot_data \u001b[39m=\u001b[39m data\u001b[39m.\u001b[39;49mpivot(\u001b[39m\"\u001b[39;49m\u001b[39mssstime\u001b[39;49m\u001b[39m\"\u001b[39;49m,\u001b[39m\"\u001b[39;49m\u001b[39mmonth\u001b[39;49m\u001b[39m\"\u001b[39;49m,\u001b[39m\"\u001b[39;49m\u001b[39msignificance\u001b[39;49m\u001b[39m\"\u001b[39;49m)\n\u001b[0;32m      2\u001b[0m plt\u001b[39m.\u001b[39mfigure(figsize\u001b[39m=\u001b[39m(\u001b[39m10\u001b[39m, \u001b[39m6\u001b[39m)) \n\u001b[0;32m      3\u001b[0m sns\u001b[39m.\u001b[39mheatmap(pivot_data, annot\u001b[39m=\u001b[39m\u001b[39mTrue\u001b[39;00m, fmt\u001b[39m=\u001b[39m\u001b[39m\"\u001b[39m\u001b[39md\u001b[39m\u001b[39m\"\u001b[39m, cmap\u001b[39m=\u001b[39m\u001b[39m\"\u001b[39m\u001b[39mYlGnBu\u001b[39m\u001b[39m\"\u001b[39m)\n",
      "File \u001b[1;32mc:\\Users\\HP\\anaconda3\\Lib\\site-packages\\pandas\\util\\_decorators.py:331\u001b[0m, in \u001b[0;36mdeprecate_nonkeyword_arguments.<locals>.decorate.<locals>.wrapper\u001b[1;34m(*args, **kwargs)\u001b[0m\n\u001b[0;32m    325\u001b[0m \u001b[39mif\u001b[39;00m \u001b[39mlen\u001b[39m(args) \u001b[39m>\u001b[39m num_allow_args:\n\u001b[0;32m    326\u001b[0m     warnings\u001b[39m.\u001b[39mwarn(\n\u001b[0;32m    327\u001b[0m         msg\u001b[39m.\u001b[39mformat(arguments\u001b[39m=\u001b[39m_format_argument_list(allow_args)),\n\u001b[0;32m    328\u001b[0m         \u001b[39mFutureWarning\u001b[39;00m,\n\u001b[0;32m    329\u001b[0m         stacklevel\u001b[39m=\u001b[39mfind_stack_level(),\n\u001b[0;32m    330\u001b[0m     )\n\u001b[1;32m--> 331\u001b[0m \u001b[39mreturn\u001b[39;00m func(\u001b[39m*\u001b[39;49margs, \u001b[39m*\u001b[39;49m\u001b[39m*\u001b[39;49mkwargs)\n",
      "File \u001b[1;32mc:\\Users\\HP\\anaconda3\\Lib\\site-packages\\pandas\\core\\frame.py:8567\u001b[0m, in \u001b[0;36mDataFrame.pivot\u001b[1;34m(self, index, columns, values)\u001b[0m\n\u001b[0;32m   8561\u001b[0m \u001b[39m@Substitution\u001b[39m(\u001b[39m\"\u001b[39m\u001b[39m\"\u001b[39m)\n\u001b[0;32m   8562\u001b[0m \u001b[39m@Appender\u001b[39m(_shared_docs[\u001b[39m\"\u001b[39m\u001b[39mpivot\u001b[39m\u001b[39m\"\u001b[39m])\n\u001b[0;32m   8563\u001b[0m \u001b[39m@deprecate_nonkeyword_arguments\u001b[39m(version\u001b[39m=\u001b[39m\u001b[39mNone\u001b[39;00m, allowed_args\u001b[39m=\u001b[39m[\u001b[39m\"\u001b[39m\u001b[39mself\u001b[39m\u001b[39m\"\u001b[39m])\n\u001b[0;32m   8564\u001b[0m \u001b[39mdef\u001b[39;00m \u001b[39mpivot\u001b[39m(\u001b[39mself\u001b[39m, index\u001b[39m=\u001b[39m\u001b[39mNone\u001b[39;00m, columns\u001b[39m=\u001b[39m\u001b[39mNone\u001b[39;00m, values\u001b[39m=\u001b[39m\u001b[39mNone\u001b[39;00m) \u001b[39m-\u001b[39m\u001b[39m>\u001b[39m DataFrame:\n\u001b[0;32m   8565\u001b[0m     \u001b[39mfrom\u001b[39;00m \u001b[39mpandas\u001b[39;00m\u001b[39m.\u001b[39;00m\u001b[39mcore\u001b[39;00m\u001b[39m.\u001b[39;00m\u001b[39mreshape\u001b[39;00m\u001b[39m.\u001b[39;00m\u001b[39mpivot\u001b[39;00m \u001b[39mimport\u001b[39;00m pivot\n\u001b[1;32m-> 8567\u001b[0m     \u001b[39mreturn\u001b[39;00m pivot(\u001b[39mself\u001b[39;49m, index\u001b[39m=\u001b[39;49mindex, columns\u001b[39m=\u001b[39;49mcolumns, values\u001b[39m=\u001b[39;49mvalues)\n",
      "File \u001b[1;32mc:\\Users\\HP\\anaconda3\\Lib\\site-packages\\pandas\\util\\_decorators.py:331\u001b[0m, in \u001b[0;36mdeprecate_nonkeyword_arguments.<locals>.decorate.<locals>.wrapper\u001b[1;34m(*args, **kwargs)\u001b[0m\n\u001b[0;32m    325\u001b[0m \u001b[39mif\u001b[39;00m \u001b[39mlen\u001b[39m(args) \u001b[39m>\u001b[39m num_allow_args:\n\u001b[0;32m    326\u001b[0m     warnings\u001b[39m.\u001b[39mwarn(\n\u001b[0;32m    327\u001b[0m         msg\u001b[39m.\u001b[39mformat(arguments\u001b[39m=\u001b[39m_format_argument_list(allow_args)),\n\u001b[0;32m    328\u001b[0m         \u001b[39mFutureWarning\u001b[39;00m,\n\u001b[0;32m    329\u001b[0m         stacklevel\u001b[39m=\u001b[39mfind_stack_level(),\n\u001b[0;32m    330\u001b[0m     )\n\u001b[1;32m--> 331\u001b[0m \u001b[39mreturn\u001b[39;00m func(\u001b[39m*\u001b[39;49margs, \u001b[39m*\u001b[39;49m\u001b[39m*\u001b[39;49mkwargs)\n",
      "File \u001b[1;32mc:\\Users\\HP\\anaconda3\\Lib\\site-packages\\pandas\\core\\reshape\\pivot.py:525\u001b[0m, in \u001b[0;36mpivot\u001b[1;34m(data, index, columns, values)\u001b[0m\n\u001b[0;32m    522\u001b[0m \u001b[39melse\u001b[39;00m:\n\u001b[0;32m    523\u001b[0m     index_list \u001b[39m=\u001b[39m [data[idx] \u001b[39mfor\u001b[39;00m idx \u001b[39min\u001b[39;00m com\u001b[39m.\u001b[39mconvert_to_list_like(index)]\n\u001b[1;32m--> 525\u001b[0m data_columns \u001b[39m=\u001b[39m [data[col] \u001b[39mfor\u001b[39;49;00m col \u001b[39min\u001b[39;49;00m columns_listlike]\n\u001b[0;32m    526\u001b[0m index_list\u001b[39m.\u001b[39mextend(data_columns)\n\u001b[0;32m    527\u001b[0m multiindex \u001b[39m=\u001b[39m MultiIndex\u001b[39m.\u001b[39mfrom_arrays(index_list)\n",
      "File \u001b[1;32mc:\\Users\\HP\\anaconda3\\Lib\\site-packages\\pandas\\core\\reshape\\pivot.py:525\u001b[0m, in \u001b[0;36m<listcomp>\u001b[1;34m(.0)\u001b[0m\n\u001b[0;32m    522\u001b[0m \u001b[39melse\u001b[39;00m:\n\u001b[0;32m    523\u001b[0m     index_list \u001b[39m=\u001b[39m [data[idx] \u001b[39mfor\u001b[39;00m idx \u001b[39min\u001b[39;00m com\u001b[39m.\u001b[39mconvert_to_list_like(index)]\n\u001b[1;32m--> 525\u001b[0m data_columns \u001b[39m=\u001b[39m [data[col] \u001b[39mfor\u001b[39;00m col \u001b[39min\u001b[39;00m columns_listlike]\n\u001b[0;32m    526\u001b[0m index_list\u001b[39m.\u001b[39mextend(data_columns)\n\u001b[0;32m    527\u001b[0m multiindex \u001b[39m=\u001b[39m MultiIndex\u001b[39m.\u001b[39mfrom_arrays(index_list)\n",
      "File \u001b[1;32mc:\\Users\\HP\\anaconda3\\Lib\\site-packages\\pandas\\core\\frame.py:3807\u001b[0m, in \u001b[0;36mDataFrame.__getitem__\u001b[1;34m(self, key)\u001b[0m\n\u001b[0;32m   3805\u001b[0m \u001b[39mif\u001b[39;00m \u001b[39mself\u001b[39m\u001b[39m.\u001b[39mcolumns\u001b[39m.\u001b[39mnlevels \u001b[39m>\u001b[39m \u001b[39m1\u001b[39m:\n\u001b[0;32m   3806\u001b[0m     \u001b[39mreturn\u001b[39;00m \u001b[39mself\u001b[39m\u001b[39m.\u001b[39m_getitem_multilevel(key)\n\u001b[1;32m-> 3807\u001b[0m indexer \u001b[39m=\u001b[39m \u001b[39mself\u001b[39;49m\u001b[39m.\u001b[39;49mcolumns\u001b[39m.\u001b[39;49mget_loc(key)\n\u001b[0;32m   3808\u001b[0m \u001b[39mif\u001b[39;00m is_integer(indexer):\n\u001b[0;32m   3809\u001b[0m     indexer \u001b[39m=\u001b[39m [indexer]\n",
      "File \u001b[1;32mc:\\Users\\HP\\anaconda3\\Lib\\site-packages\\pandas\\core\\indexes\\base.py:3804\u001b[0m, in \u001b[0;36mIndex.get_loc\u001b[1;34m(self, key, method, tolerance)\u001b[0m\n\u001b[0;32m   3802\u001b[0m     \u001b[39mreturn\u001b[39;00m \u001b[39mself\u001b[39m\u001b[39m.\u001b[39m_engine\u001b[39m.\u001b[39mget_loc(casted_key)\n\u001b[0;32m   3803\u001b[0m \u001b[39mexcept\u001b[39;00m \u001b[39mKeyError\u001b[39;00m \u001b[39mas\u001b[39;00m err:\n\u001b[1;32m-> 3804\u001b[0m     \u001b[39mraise\u001b[39;00m \u001b[39mKeyError\u001b[39;00m(key) \u001b[39mfrom\u001b[39;00m \u001b[39merr\u001b[39;00m\n\u001b[0;32m   3805\u001b[0m \u001b[39mexcept\u001b[39;00m \u001b[39mTypeError\u001b[39;00m:\n\u001b[0;32m   3806\u001b[0m     \u001b[39m# If we have a listlike key, _check_indexing_error will raise\u001b[39;00m\n\u001b[0;32m   3807\u001b[0m     \u001b[39m#  InvalidIndexError. Otherwise we fall through and re-raise\u001b[39;00m\n\u001b[0;32m   3808\u001b[0m     \u001b[39m#  the TypeError.\u001b[39;00m\n\u001b[0;32m   3809\u001b[0m     \u001b[39mself\u001b[39m\u001b[39m.\u001b[39m_check_indexing_error(key)\n",
      "\u001b[1;31mKeyError\u001b[0m: 'month'"
     ]
    }
   ],
   "source": [
    "# pivot_data = data.pivot(\"ssstime\",\"month\",\"significance\")\n",
    "# plt.figure(figsize=(10, 6)) \n",
    "# sns.heatmap(pivot_data, annot=True, fmt=\"d\", cmap=\"YlGnBu\")\n",
    "# plt.title(\"Impact / time / month\")\n",
    "# plt.xlabel(\"Impact\")\n",
    "# plt.ylabel(\"time\")\n",
    "# plt.tight_layout()\n",
    "# plt.show()\n",
    "\n",
    "# # here there's an error \"Key Value Error\" formonth, but i've changed the name from date to month but stil it shows error"
   ]
  },
  {
   "cell_type": "code",
   "execution_count": null,
   "metadata": {},
   "outputs": [],
   "source": []
  }
 ],
 "metadata": {
  "kernelspec": {
   "display_name": "Python 3",
   "language": "python",
   "name": "python3"
  },
  "language_info": {
   "codemirror_mode": {
    "name": "ipython",
    "version": 3
   },
   "file_extension": ".py",
   "mimetype": "text/x-python",
   "name": "python",
   "nbconvert_exporter": "python",
   "pygments_lexer": "ipython3",
   "version": "3.11.4"
  },
  "orig_nbformat": 4
 },
 "nbformat": 4,
 "nbformat_minor": 2
}
